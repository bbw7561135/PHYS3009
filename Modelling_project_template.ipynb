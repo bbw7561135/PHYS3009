{
 "cells": [
  {
   "cell_type": "markdown",
   "metadata": {},
   "source": [
    "# PHYS3009 Project: Modelling the Emission\n",
    "\n",
    "Name:\n",
    "\n",
    "Student No.:\n",
    "\n",
    "total marks: 25"
   ]
  },
  {
   "cell_type": "markdown",
   "metadata": {},
   "source": [
    "## Purpose of this Project\n",
    "\n",
    "In this project you will learn how the energy spectrum from an observation can be used to study the astrophysical mechanisms at work in the source. This project will make use of the non-thermal radiation mechanisms learned in PHYS3008 and the data sets created in PHYS3009.\n",
    "\n",
    "Two models will be studied: A hadronic model where all the emission comes from pion decay originating in the inellastic collisions of relativistic protons with ambient material. And a leptonic model where collisions of relativistic electrons with the Cosmic Microwave Background boost the low-energy photons to gamma-ray energies.\n",
    "\n",
    "The parameters to be measured are the total energy and the cut-off of the particle spectrum (electrons or protons), and the magnetic field in the leptonic model. For the hadronic model it is not possible to directly measure the ambient particle density, but different options will be discussed.\n",
    "\n",
    "You will need the data file you have created in the TeV Astronomy project. Further on, you need two data files, ```RXJ1713_Suzaku-XIS.dat``` and ```RXJ_4flg.ecsv```. You can download these files from Sakai. Place these files in the working directory of this notebook. If you are working on mybinder you will need to upload your own data file: Go to the jupyter home page (not this notebook, it is in a different tab or window of your browser) and click on Upload in the top-right corner. The two other files are already available on mybinder."
   ]
  },
  {
   "cell_type": "markdown",
   "metadata": {},
   "source": [
    "## Load and test the modules\n",
    "\n",
    "As usual we will start with importing the necessary modules and we check the versions of ```naima``` and ```gammapy```."
   ]
  },
  {
   "cell_type": "code",
   "execution_count": null,
   "metadata": {},
   "outputs": [],
   "source": [
    "import naima\n",
    "\n",
    "naima.__version__"
   ]
  },
  {
   "cell_type": "code",
   "execution_count": null,
   "metadata": {},
   "outputs": [],
   "source": [
    "import gammapy\n",
    "\n",
    "gammapy.__version__"
   ]
  },
  {
   "cell_type": "code",
   "execution_count": null,
   "metadata": {},
   "outputs": [],
   "source": [
    "import numpy as np\n",
    "\n",
    "np.__version__"
   ]
  },
  {
   "cell_type": "code",
   "execution_count": null,
   "metadata": {},
   "outputs": [],
   "source": [
    "from astropy.table import Table\n",
    "\n",
    "from astropy import units as u\n",
    "\n",
    "import matplotlib.pyplot as plt"
   ]
  },
  {
   "cell_type": "code",
   "execution_count": null,
   "metadata": {},
   "outputs": [],
   "source": [
    "from gammapy.estimators.flux_point import FluxPoints\n",
    "\n",
    "from gammapy.datasets import FluxPointsDataset\n",
    "\n",
    "from gammapy.modeling.models import (\n",
    "    PowerLawSpectralModel,\n",
    "    ExpCutoffPowerLawSpectralModel,\n",
    "    SkyModel,\n",
    "    NaimaSpectralModel,\n",
    ")\n",
    "\n",
    "from gammapy.modeling import Fit"
   ]
  },
  {
   "cell_type": "markdown",
   "metadata": {},
   "source": [
    "## Additional Parameters and Settings\n",
    "\n",
    "We have measured the gamma-ray and radio flux on Earth and now we want to model the emission in the source. We will need the distance to the source. The distance cannot be measured directly from gamma rays or radio, and sometimes the distance is not known. Good for us that the distance to RX J1713.7-3946 is known."
   ]
  },
  {
   "cell_type": "code",
   "execution_count": null,
   "metadata": {},
   "outputs": [],
   "source": [
    "distance = 1*u.kpc"
   ]
  },
  {
   "cell_type": "markdown",
   "metadata": {},
   "source": [
    "Let's define some parameters which will be used for plotting later. This includes the energy range of our models."
   ]
  },
  {
   "cell_type": "code",
   "execution_count": null,
   "metadata": {},
   "outputs": [],
   "source": [
    "plot_kwargs = {\n",
    "    'energy_range': (1*u.eV,100*u.TeV),\n",
    "    'energy_power': 2\n",
    "}"
   ]
  },
  {
   "cell_type": "markdown",
   "metadata": {},
   "source": [
    "## Loading the Data"
   ]
  },
  {
   "cell_type": "markdown",
   "metadata": {},
   "source": [
    "### Reading the H.E.S.S. points\n",
    "\n",
    "We have produced the data points with gammapy, so it should be easy to load them again."
   ]
  },
  {
   "cell_type": "code",
   "execution_count": null,
   "metadata": {},
   "outputs": [],
   "source": [
    "hesspoints = FluxPoints.read('J1713.dat', format='ipac')"
   ]
  },
  {
   "cell_type": "code",
   "execution_count": null,
   "metadata": {},
   "outputs": [],
   "source": [
    "hesspoints.table"
   ]
  },
  {
   "cell_type": "markdown",
   "metadata": {},
   "source": [
    "We see that everything is there what we have produced last time. But there is one problem."
   ]
  },
  {
   "cell_type": "code",
   "execution_count": null,
   "metadata": {},
   "outputs": [],
   "source": [
    "hesspoints.table['is_ul'].dtype"
   ]
  },
  {
   "cell_type": "markdown",
   "metadata": {},
   "source": [
    "This column contains True and False, but as string unfortunately. Let's convert it to bool."
   ]
  },
  {
   "cell_type": "code",
   "execution_count": null,
   "metadata": {},
   "outputs": [],
   "source": [
    "hesspoints.table['is_ul'] = hesspoints.table['is_ul'] == 'True'"
   ]
  },
  {
   "cell_type": "code",
   "execution_count": null,
   "metadata": {},
   "outputs": [],
   "source": [
    "hesspoints.plot()"
   ]
  },
  {
   "cell_type": "markdown",
   "metadata": {},
   "source": [
    "The upper limits cannot be used in a fit and may lead to errors later on. Let's keep only the points that are not upper limits."
   ]
  },
  {
   "cell_type": "code",
   "execution_count": null,
   "metadata": {},
   "outputs": [],
   "source": [
    "hesspoints.table = hesspoints.table[hesspoints.table['is_ul'] == False]"
   ]
  },
  {
   "cell_type": "markdown",
   "metadata": {},
   "source": [
    "Finally, we keep only the columns we need. This will make it easier to combine these points with the Fermi/LAT points."
   ]
  },
  {
   "cell_type": "code",
   "execution_count": null,
   "metadata": {},
   "outputs": [],
   "source": [
    "hesspoints.table = hesspoints.table['e_ref',\n",
    "                                 'e_min',\n",
    "                                 'e_max',\n",
    "                                 'dnde',\n",
    "                                 'dnde_ul',\n",
    "                                 'dnde_err',\n",
    "                                 'dnde_errp',\n",
    "                                 'dnde_errn',\n",
    "                                 'is_ul']"
   ]
  },
  {
   "cell_type": "code",
   "execution_count": null,
   "metadata": {},
   "outputs": [],
   "source": [
    "hesspoints.table"
   ]
  },
  {
   "cell_type": "code",
   "execution_count": null,
   "metadata": {},
   "outputs": [],
   "source": [
    "hesspoints.plot()"
   ]
  },
  {
   "cell_type": "markdown",
   "metadata": {},
   "source": [
    "Now we create a data set which combines the flux points and a model we want to fit. We should use the same model as in the project before."
   ]
  },
  {
   "cell_type": "code",
   "execution_count": null,
   "metadata": {},
   "outputs": [],
   "source": [
    "hesspoints_ds = FluxPointsDataset(SkyModel(spectral_model=ExpCutoffPowerLawSpectralModel()), hesspoints)"
   ]
  },
  {
   "cell_type": "markdown",
   "metadata": {},
   "source": [
    "Next we fit the model to the flux points."
   ]
  },
  {
   "cell_type": "code",
   "execution_count": null,
   "metadata": {},
   "outputs": [],
   "source": [
    "fit = Fit([hesspoints_ds])\n",
    "\n",
    "result = fit.run()\n",
    "print(result)\n",
    "print(result.parameters.to_table())"
   ]
  },
  {
   "cell_type": "markdown",
   "metadata": {},
   "source": [
    "These numbers are a bit different then what we have found in the direct fit to the data. This is due to the extra step of generating flux points and refitting these points. But within errors this agrees very well."
   ]
  },
  {
   "cell_type": "markdown",
   "metadata": {},
   "source": [
    "Make sure that your fit converged and make a plot of your result.    **[3 marks]**"
   ]
  },
  {
   "cell_type": "code",
   "execution_count": null,
   "metadata": {},
   "outputs": [],
   "source": [
    "hesspoints_ds.peek()"
   ]
  },
  {
   "attachments": {
    "hess_spectrum.png": {
     "image/png": "[encoded data removed]"
    }
   },
   "cell_type": "markdown",
   "metadata": {},
   "source": [
    "Epected output:\n",
    "![hess_spectrum.png](attachment:hess_spectrum.png)"
   ]
  },
  {
   "cell_type": "markdown",
   "metadata": {},
   "source": [
    "### Reading the Fermi/LAT Data Points\n",
    "\n",
    "Let's do the same with the Fermi/LAT data points. If you work on your own computer then you need to download this file from Sakai. If you work on mybinder then the file is already in your working directory, nothing to do in this case.\n",
    "\n",
    "Let's load the file.    **[1 mark]**"
   ]
  },
  {
   "cell_type": "code",
   "execution_count": null,
   "metadata": {},
   "outputs": [],
   "source": [
    "fermipoints = FluxPoints.read('RXJ_4flg.ecsv')"
   ]
  },
  {
   "cell_type": "code",
   "execution_count": null,
   "metadata": {
    "scrolled": true
   },
   "outputs": [],
   "source": [
    "fermipoints.table"
   ]
  },
  {
   "cell_type": "code",
   "execution_count": null,
   "metadata": {},
   "outputs": [],
   "source": [
    "fermipoints.sed_type"
   ]
  },
  {
   "cell_type": "markdown",
   "metadata": {},
   "source": [
    "The Fermi/LAT points have a different format. What is picked up here is the flux in each bin. But we need the differential flux ```dnde```. Good for us that gammapy can do the conversion."
   ]
  },
  {
   "cell_type": "code",
   "execution_count": null,
   "metadata": {},
   "outputs": [],
   "source": [
    "fermipoints = fermipoints.to_sed_type('dnde')"
   ]
  },
  {
   "cell_type": "code",
   "execution_count": null,
   "metadata": {},
   "outputs": [],
   "source": [
    "fermipoints.table"
   ]
  },
  {
   "cell_type": "markdown",
   "metadata": {},
   "source": [
    "Columns for ```dnde``` have been added at the end. Let's keep only the columns we will need, this will help later."
   ]
  },
  {
   "cell_type": "code",
   "execution_count": null,
   "metadata": {},
   "outputs": [],
   "source": [
    "fermipoints.table = fermipoints.table['e_min',\n",
    "                                     'e_max',\n",
    "                                     'is_ul',\n",
    "                                     'e_ref',\n",
    "                                     'dnde',\n",
    "                                     'dnde_errn',\n",
    "                                     'dnde_errp',\n",
    "                                     'dnde_ul']"
   ]
  },
  {
   "cell_type": "code",
   "execution_count": null,
   "metadata": {},
   "outputs": [],
   "source": [
    "fermipoints.table"
   ]
  },
  {
   "cell_type": "markdown",
   "metadata": {},
   "source": [
    "We also need symmetric errors for the fit. Let's take the average of the positive and negative error."
   ]
  },
  {
   "cell_type": "code",
   "execution_count": null,
   "metadata": {},
   "outputs": [],
   "source": [
    "fermipoints.table['dnde_err'] = (fermipoints.table['dnde_errn'] + fermipoints.table['dnde_errp'] )/2  "
   ]
  },
  {
   "cell_type": "code",
   "execution_count": null,
   "metadata": {},
   "outputs": [],
   "source": [
    "fermipoints.plot()"
   ]
  },
  {
   "cell_type": "markdown",
   "metadata": {},
   "source": [
    "Again, we will delete all the upper limits."
   ]
  },
  {
   "cell_type": "code",
   "execution_count": null,
   "metadata": {},
   "outputs": [],
   "source": [
    "fermipoints.table = fermipoints.table[fermipoints.table['is_ul']==False]"
   ]
  },
  {
   "cell_type": "markdown",
   "metadata": {},
   "source": [
    "The Fermi/LAT points are in MeV, while the H.E.S.S. points are in TeV. gammapy should be able to hand it automatically, but I am afraid there is a bug. Let's convert it to TeV manually. First we write a function to do this. "
   ]
  },
  {
   "cell_type": "code",
   "execution_count": null,
   "metadata": {},
   "outputs": [],
   "source": [
    "# Convert all to TeV. Do we need this? FluxPointsDataSet seems to have a problem with other than TeV as unit.\n",
    "\n",
    "def convert_to_TeV(table) :\n",
    "    for c in ['e_min', 'e_max', 'e_ref'] :\n",
    "        try:\n",
    "            table[c] = table[c].to(u.TeV)\n",
    "        except:\n",
    "            pass\n",
    "\n",
    "    for c in ['dnde', 'dnde_errn', 'dnde_errp', 'dnde_ul', 'dnde_err'] :\n",
    "        try:\n",
    "            table[c] = table[c].to(1/(u.TeV * u.cm**2 * u.s))\n",
    "        except:\n",
    "            pass"
   ]
  },
  {
   "cell_type": "markdown",
   "metadata": {},
   "source": [
    "And then we call this function for the data points."
   ]
  },
  {
   "cell_type": "code",
   "execution_count": null,
   "metadata": {},
   "outputs": [],
   "source": [
    "convert_to_TeV(fermipoints.table)"
   ]
  },
  {
   "cell_type": "code",
   "execution_count": null,
   "metadata": {},
   "outputs": [],
   "source": [
    "fermipoints.plot()"
   ]
  },
  {
   "cell_type": "markdown",
   "metadata": {},
   "source": [
    "Let's create a data set. This time we will use a power law as model."
   ]
  },
  {
   "cell_type": "code",
   "execution_count": null,
   "metadata": {},
   "outputs": [],
   "source": [
    "fermipoints_ds = FluxPointsDataset(SkyModel(spectral_model=PowerLawSpectralModel()),fermipoints)"
   ]
  },
  {
   "cell_type": "code",
   "execution_count": null,
   "metadata": {},
   "outputs": [],
   "source": [
    "fit = Fit([fermipoints_ds])\n",
    "\n",
    "result = fit.run()\n",
    "print(result)\n",
    "print(result.parameters.to_table())"
   ]
  },
  {
   "cell_type": "code",
   "execution_count": null,
   "metadata": {},
   "outputs": [],
   "source": [
    "fermipoints_ds.peek()"
   ]
  },
  {
   "cell_type": "markdown",
   "metadata": {},
   "source": [
    "### Reading X-Ray Data Points\n",
    "\n",
    "In order to fix the synchrotron emission we will measurements in radio or X-rays. Here we will use the results of a published study of RX J1713 by Tanaka et al. (2008) [http://adsabs.harvard.edu/abs/2008ApJ...685..988T]. A data file with these results came with an older version of ```naima```. If you work on your own computer then you need to download this file from Sakai. If you work on mybinder then the file is already in your working directory, nothing to do in this case. We cannot read this file directly into FluxPoints. But we can read it as a table, make the necessary changes and use it then as FluxPoints.\n",
    "\n",
    "Let's load the file.    **[1 mark]**"
   ]
  },
  {
   "cell_type": "code",
   "execution_count": null,
   "metadata": {},
   "outputs": [],
   "source": [
    "xraytable = Table.read('RXJ1713_Suzaku-XIS.dat', format = 'ipac')"
   ]
  },
  {
   "cell_type": "code",
   "execution_count": null,
   "metadata": {},
   "outputs": [],
   "source": [
    "xraytable"
   ]
  },
  {
   "cell_type": "markdown",
   "metadata": {},
   "source": [
    "We need to change the column names. The ```energy``` column should be called ```e_ref``` as in the other files. And the ```flux``` column here actually contains values for ```e2dnde```."
   ]
  },
  {
   "cell_type": "code",
   "execution_count": null,
   "metadata": {},
   "outputs": [],
   "source": [
    "xraytable['energy'].name = 'e_ref'\n",
    "xraytable['flux'].name = 'e2dnde'\n",
    "xraytable['flux_error'].name = 'e2dnde_err'"
   ]
  },
  {
   "cell_type": "markdown",
   "metadata": {},
   "source": [
    "As the points are ```e2dnde``` we need to put this information into the table."
   ]
  },
  {
   "cell_type": "code",
   "execution_count": null,
   "metadata": {},
   "outputs": [],
   "source": [
    "xraytable.meta['SED_TYPE'] = 'e2dnde'"
   ]
  },
  {
   "cell_type": "code",
   "execution_count": null,
   "metadata": {},
   "outputs": [],
   "source": [
    "xraytable"
   ]
  },
  {
   "cell_type": "markdown",
   "metadata": {},
   "source": [
    "The energy unit here is eV. The spectrum ranges from 500 eV to 11 keV. Let's convert this to TeV as with the Fermi/LAT points."
   ]
  },
  {
   "cell_type": "code",
   "execution_count": null,
   "metadata": {},
   "outputs": [],
   "source": [
    "convert_to_TeV(xraytable)"
   ]
  },
  {
   "cell_type": "code",
   "execution_count": null,
   "metadata": {},
   "outputs": [],
   "source": [
    "xraytable"
   ]
  },
  {
   "cell_type": "markdown",
   "metadata": {},
   "source": [
    "Now we are ready to create the FluxPoints."
   ]
  },
  {
   "cell_type": "code",
   "execution_count": null,
   "metadata": {},
   "outputs": [],
   "source": [
    "xraypoints = FluxPoints(xraytable)"
   ]
  },
  {
   "cell_type": "code",
   "execution_count": null,
   "metadata": {},
   "outputs": [],
   "source": [
    "xraypoints.plot()"
   ]
  },
  {
   "cell_type": "markdown",
   "metadata": {},
   "source": [
    "The FluxPoints have to be converted to ```dnde```."
   ]
  },
  {
   "cell_type": "code",
   "execution_count": null,
   "metadata": {},
   "outputs": [],
   "source": [
    "xraypoints = xraypoints.to_sed_type('dnde')"
   ]
  },
  {
   "cell_type": "code",
   "execution_count": null,
   "metadata": {},
   "outputs": [],
   "source": [
    "xraypoints.table"
   ]
  },
  {
   "cell_type": "markdown",
   "metadata": {},
   "source": [
    "Finally we create the data set. Here we can use a power law with exponential cut-off."
   ]
  },
  {
   "cell_type": "code",
   "execution_count": null,
   "metadata": {},
   "outputs": [],
   "source": [
    "x_ds = FluxPointsDataset(SkyModel(spectral_model=\n",
    "                                  ExpCutoffPowerLawSpectralModel(amplitute = 7e-13/(u.TeV * u.s * u.cm**2),\n",
    "                                                                 lambda_ = 0.2/u.keV)),\n",
    "                         xraypoints)"
   ]
  },
  {
   "cell_type": "markdown",
   "metadata": {},
   "source": [
    "Note that start parameters have to be set. Otherwise the fit will not converge. The problem is that the reference energy of 1 TeV is far outside the energy range of the data points."
   ]
  },
  {
   "cell_type": "code",
   "execution_count": null,
   "metadata": {},
   "outputs": [],
   "source": [
    "fit = Fit([x_ds])\n",
    "\n",
    "result = fit.run()\n",
    "print(result)\n",
    "print(result.parameters.to_table())"
   ]
  },
  {
   "cell_type": "code",
   "execution_count": null,
   "metadata": {},
   "outputs": [],
   "source": [
    "x_ds.peek()"
   ]
  },
  {
   "cell_type": "markdown",
   "metadata": {},
   "source": [
    "****\n",
    "*Note.* You see that depending on the origin of your data some preparation is needed. It is important to understand what your files contain and what you want to do with it.\n",
    "****"
   ]
  },
  {
   "cell_type": "markdown",
   "metadata": {},
   "source": [
    "# Combine the Gamma-Ray Flux Points\n",
    "\n",
    "The MeV to GeV and TeV flux points where obtained with different instruments and different techniques but usually the emission comes from the same processes. So we can combine these points and analyse together.\n",
    "\n",
    "Within ```gammapy``` we can just stack the flux points."
   ]
  },
  {
   "cell_type": "code",
   "execution_count": null,
   "metadata": {},
   "outputs": [],
   "source": [
    "gammapoints = FluxPoints.stack([hesspoints, fermipoints])"
   ]
  },
  {
   "cell_type": "code",
   "execution_count": null,
   "metadata": {},
   "outputs": [],
   "source": [
    "gammapoints.plot(energy_power=2)"
   ]
  },
  {
   "cell_type": "code",
   "execution_count": null,
   "metadata": {},
   "outputs": [],
   "source": [
    "gammapoints.table"
   ]
  },
  {
   "cell_type": "markdown",
   "metadata": {},
   "source": [
    "We can also create a DataSet and fit a model function. We established already that the H.E.S.S. data points show a significant exponential cut-off. Otherwise we would try a simple power law and a cut-off power law and compare with the likelihood ratio test. In some cases Fermi/LAT and H.E.S.S. data on their own do not show a cut-off, but when combining them together a cut-off can be found."
   ]
  },
  {
   "cell_type": "code",
   "execution_count": null,
   "metadata": {},
   "outputs": [],
   "source": [
    "gamma_ds = FluxPointsDataset(SkyModel(spectral_model=ExpCutoffPowerLawSpectralModel()), gammapoints)"
   ]
  },
  {
   "cell_type": "code",
   "execution_count": null,
   "metadata": {},
   "outputs": [],
   "source": [
    "fit = Fit([gamma_ds])\n",
    "\n",
    "result = fit.run()\n",
    "print(result)\n",
    "print(result.parameters.to_table())"
   ]
  },
  {
   "cell_type": "markdown",
   "metadata": {},
   "source": [
    "Make sure that the fit terminated successfully. You should see a value for ```total stat```, and for each parameter a value and an error. If this is not the case you should change the parameters of the proton model, recreate the FluxPointDataSet and fit again.\n",
    "\n",
    "When this is done you can make a plot of the result. **[3 marks]**"
   ]
  },
  {
   "cell_type": "code",
   "execution_count": null,
   "metadata": {},
   "outputs": [],
   "source": [
    "# your code here"
   ]
  },
  {
   "attachments": {
    "gamma_spectrum.png": {
     "image/png": "[encoded data removed]"
    }
   },
   "cell_type": "markdown",
   "metadata": {},
   "source": [
    "Expected output:\n",
    "![gamma_spectrum.png](attachment:gamma_spectrum.png)"
   ]
  },
  {
   "cell_type": "markdown",
   "metadata": {},
   "source": [
    "You see that the fit of the spectral index is dominated by Fermi/LAT and the cut-off lies well in the H.E.S.S. energy range. The best-fit parameters we find here are in good agreement with what we found above from the individual fits."
   ]
  },
  {
   "cell_type": "markdown",
   "metadata": {},
   "source": [
    "## Fitting Astrophysical Models\n",
    "\n",
    "So far, we have fitted power laws to our data. We just described the shape of the spectrum. Now we want to fit astrophysical models and measure astrophysical parameters.\n",
    "\n",
    "We will take a population of protons or electrons and model the gamma-ray emission from these particles. The energy spectrum of these particles should follow a power law with exponential cut-off. Let's define the two populations. \n",
    "\n",
    "We will use the ```ExponentialCutoffPowerLaw``` functions from ```naima``` as we have done in PHYS3008. This is a with a super-exponential cut-off,\n",
    "$$\n",
    "\\frac{dN}{dE} = A \\times \\left( \\frac{E}{E_0} \\right) ^{-\\alpha} \\times \\exp \\left( - \\left(\\frac{E}{E_\\mathsf{cutoff}}\\right)^\\beta \\right),\n",
    "$$\n",
    "where we will set $\\beta = 1$ to obtain a normal exponential cut-off. We will set all parameters to some meaningful values."
   ]
  },
  {
   "cell_type": "code",
   "execution_count": null,
   "metadata": {},
   "outputs": [],
   "source": [
    "# proton distribution\n",
    "protons = naima.models.ExponentialCutoffPowerLaw(amplitude = 1e45 / u.eV,\n",
    "                                                 e_0 = 1 * u.TeV,\n",
    "                                                 alpha = 2.0, \n",
    "                                                 e_cutoff = 10 * u.TeV,\n",
    "                                                 beta = 1)"
   ]
  },
  {
   "cell_type": "code",
   "execution_count": null,
   "metadata": {},
   "outputs": [],
   "source": [
    "# electron distribution\n",
    "electrons = naima.models.ExponentialCutoffPowerLaw(amplitude = 1e45 / u.eV,\n",
    "                                                   e_0 = 1 * u.TeV,\n",
    "                                                   alpha = 2.0,\n",
    "                                                   e_cutoff = 1 * u.TeV,\n",
    "                                                   beta = 1)"
   ]
  },
  {
   "cell_type": "markdown",
   "metadata": {},
   "source": [
    "### Hadronic Model\n",
    "\n",
    "In a hadronic model the protons collide with ambient material. The neutral pions produced in these collisions decay into gamma rays. The only parameter in this process is the target particle density $n$. We will set $n$ to one particle per cubic-centimetre. We will see later how this scales with our result."
   ]
  },
  {
   "cell_type": "code",
   "execution_count": null,
   "metadata": {},
   "outputs": [],
   "source": [
    "n = 1./ u.cm**3"
   ]
  },
  {
   "cell_type": "markdown",
   "metadata": {},
   "source": [
    "Next we create a model for pion decays from ```naima```."
   ]
  },
  {
   "cell_type": "code",
   "execution_count": null,
   "metadata": {},
   "outputs": [],
   "source": [
    "hadronic = naima.models.PionDecay(protons, n)"
   ]
  },
  {
   "cell_type": "markdown",
   "metadata": {},
   "source": [
    "We expect that out of the supernova's explosion energy of about $10^{51}$ erg around 10% go into relativistic protons. Let's set the total energy of protons to $10^{50}$ erg. This will change the amplitude of our proton distribution but not any other parameter."
   ]
  },
  {
   "cell_type": "code",
   "execution_count": null,
   "metadata": {},
   "outputs": [],
   "source": [
    "hadronic.set_Wp(1e50*u.erg)"
   ]
  },
  {
   "cell_type": "markdown",
   "metadata": {},
   "source": [
    "This is a ```naima``` model, we want to include this in ```gammapy```. There is a ```NaimaSpectralModel``` for this. We will also add the distance to the source."
   ]
  },
  {
   "cell_type": "code",
   "execution_count": null,
   "metadata": {},
   "outputs": [],
   "source": [
    "hadronic_model = NaimaSpectralModel(hadronic, distance=distance)"
   ]
  },
  {
   "cell_type": "code",
   "execution_count": null,
   "metadata": {},
   "outputs": [],
   "source": [
    "hadronic_model.parameters.to_table()"
   ]
  },
  {
   "cell_type": "markdown",
   "metadata": {},
   "source": [
    "All parameters are free for the fit. We cannot fit the reference energy ```e_0``` we must freeze it."
   ]
  },
  {
   "cell_type": "code",
   "execution_count": null,
   "metadata": {},
   "outputs": [],
   "source": [
    "hadronic_model.parameters['e_0'].frozen = True"
   ]
  },
  {
   "cell_type": "markdown",
   "metadata": {},
   "source": [
    "We could fit the ```beta``` parameter as well. But then we will need to check if it is significantly different from 1. Let's keep this parameter at 1 and freeze it."
   ]
  },
  {
   "cell_type": "code",
   "execution_count": null,
   "metadata": {},
   "outputs": [],
   "source": [
    "hadronic_model.parameters['beta'].frozen = True"
   ]
  },
  {
   "cell_type": "code",
   "execution_count": null,
   "metadata": {},
   "outputs": [],
   "source": [
    "hadronic_model.parameters.to_table()"
   ]
  },
  {
   "cell_type": "markdown",
   "metadata": {},
   "source": [
    "Now we create a new FluxPointsDataSet with the new model and perform the fit."
   ]
  },
  {
   "cell_type": "code",
   "execution_count": null,
   "metadata": {},
   "outputs": [],
   "source": [
    "hadronic_ds = FluxPointsDataset(SkyModel(spectral_model=hadronic_model), gammapoints)"
   ]
  },
  {
   "cell_type": "code",
   "execution_count": null,
   "metadata": {},
   "outputs": [],
   "source": [
    "fit = Fit([hadronic_ds])\n",
    "result = fit.run()\n",
    "print(result)\n",
    "print(result.parameters.to_table())"
   ]
  },
  {
   "cell_type": "markdown",
   "metadata": {},
   "source": [
    "Make sure that your fit converged and make a plot of your result.    **[3 marks]**"
   ]
  },
  {
   "cell_type": "code",
   "execution_count": null,
   "metadata": {},
   "outputs": [],
   "source": [
    "# your code here"
   ]
  },
  {
   "attachments": {
    "PionDecay_fit.png": {
     "image/png": "[encoded data removed]"
    }
   },
   "cell_type": "markdown",
   "metadata": {},
   "source": [
    "Expected output:\n",
    "![PionDecay_fit.png](attachment:PionDecay_fit.png)"
   ]
  },
  {
   "cell_type": "markdown",
   "metadata": {},
   "source": [
    "One interesting result is the cut-off of the proton spectrum:"
   ]
  },
  {
   "cell_type": "code",
   "execution_count": null,
   "metadata": {},
   "outputs": [],
   "source": [
    "print('Cut-off energy: E_cut = ({:3.0f} +/- {:2.0f}) {}'.format(\n",
    "                                                hadronic_model.parameters['e_cutoff'].value,\n",
    "                                                hadronic_model.parameters['e_cutoff'].error,\n",
    "                                                hadronic_model.parameters['e_cutoff'].unit))"
   ]
  },
  {
   "cell_type": "markdown",
   "metadata": {},
   "source": [
    "If the hadronic model is true than the supernova remnant can accelerate protons to more than 100 TeV. Compare this with energies achieved at particle accelerators at CERN. One goal of gamma-ray astronomy is to find sources that can accelerate up to 1000 TeV. We are not there yet..."
   ]
  },
  {
   "cell_type": "markdown",
   "metadata": {},
   "source": [
    "Another scientific question is about the total energy in protons. We can get this number from the hadronic model:"
   ]
  },
  {
   "cell_type": "code",
   "execution_count": null,
   "metadata": {},
   "outputs": [],
   "source": [
    "W_p = hadronic.Wp"
   ]
  },
  {
   "cell_type": "code",
   "execution_count": null,
   "metadata": {},
   "outputs": [],
   "source": [
    "W_p"
   ]
  },
  {
   "cell_type": "markdown",
   "metadata": {},
   "source": [
    "This corresponds to about 8% of the supernova's explosion energy. Keep in mind that this is for a target density of $n = 1/\\mathsf{cm}^3$. The total energy in protons scales inversely proportional with the density:\n",
    "$$\n",
    "W_\\mathsf{tot} = W_p \\times \\left( \\frac{n}{1\\,\\mathsf{cm}^{-3}} \\right)^{-1}\n",
    "$$\n",
    "$W_p$ is the number from the above cell."
   ]
  },
  {
   "cell_type": "markdown",
   "metadata": {},
   "source": [
    "**Exercise:**    **[3 marks]**\n",
    "\n",
    "1. What would be the total energy if the density would be $n = 10 / \\mathsf{cm}^3$? No need to redo the fit.\n",
    "1. What would be the required density for the emission if the total energy would be $W_\\mathsf{tot} = 10^{50} \\,\\mathsf{erg}$?"
   ]
  },
  {
   "cell_type": "code",
   "execution_count": null,
   "metadata": {},
   "outputs": [],
   "source": [
    "# This is a code cell. You can put your calculations here."
   ]
  },
  {
   "cell_type": "markdown",
   "metadata": {},
   "source": [
    "**Answer:**\n",
    "\n",
    "This is a text cell. Put your answer here."
   ]
  },
  {
   "cell_type": "markdown",
   "metadata": {},
   "source": [
    "If you want to use the likelihood of the fit, here it is:"
   ]
  },
  {
   "cell_type": "code",
   "execution_count": null,
   "metadata": {},
   "outputs": [],
   "source": [
    "L_hadronic = result.total_stat"
   ]
  },
  {
   "cell_type": "markdown",
   "metadata": {},
   "source": [
    "### Inverse Compton Model\n",
    "\n",
    "When relativistic electrons scatter off photon fields energy is transferred to the photon. This is Inverse Compton scattering and the energy of the photons is in the GeV to TeV energy range.\n",
    "\n",
    "Here we will use only the Cosmic Microwave Background as seed photon fields."
   ]
  },
  {
   "cell_type": "code",
   "execution_count": null,
   "metadata": {},
   "outputs": [],
   "source": [
    "photon_fields = ['CMB']"
   ]
  },
  {
   "cell_type": "markdown",
   "metadata": {},
   "source": [
    "We create an Inverse Compton model from ```naima```. Remember that we have to set the minimum energy here to the rest energy of the electron."
   ]
  },
  {
   "cell_type": "code",
   "execution_count": null,
   "metadata": {},
   "outputs": [],
   "source": [
    "IC = naima.models.InverseCompton(electrons, photon_fields, Eemin = 511*u.keV)"
   ]
  },
  {
   "cell_type": "markdown",
   "metadata": {},
   "source": [
    "As above, we will set the total energy and we create a ```NaimaSpectralModel``` with the correct distance."
   ]
  },
  {
   "cell_type": "code",
   "execution_count": null,
   "metadata": {},
   "outputs": [],
   "source": [
    "IC.set_We(1e49*u.erg)\n",
    "\n",
    "IC_model = NaimaSpectralModel(IC, distance=distance)"
   ]
  },
  {
   "cell_type": "code",
   "execution_count": null,
   "metadata": {},
   "outputs": [],
   "source": [
    "IC_model.parameters.to_table()"
   ]
  },
  {
   "cell_type": "markdown",
   "metadata": {},
   "source": [
    "We must freeze the reference energy and we want to freeze the beta parameter."
   ]
  },
  {
   "cell_type": "code",
   "execution_count": null,
   "metadata": {},
   "outputs": [],
   "source": [
    "IC_model.parameters['e_0'].frozen = True"
   ]
  },
  {
   "cell_type": "code",
   "execution_count": null,
   "metadata": {},
   "outputs": [],
   "source": [
    "IC_model.parameters['beta'].frozen = True"
   ]
  },
  {
   "cell_type": "code",
   "execution_count": null,
   "metadata": {},
   "outputs": [],
   "source": [
    "IC_model.parameters.to_table()"
   ]
  },
  {
   "cell_type": "markdown",
   "metadata": {},
   "source": [
    "We create a FluxPointDataSet."
   ]
  },
  {
   "cell_type": "code",
   "execution_count": null,
   "metadata": {},
   "outputs": [],
   "source": [
    "IC_ds = FluxPointsDataset(SkyModel(spectral_model=IC_model), gammapoints)"
   ]
  },
  {
   "cell_type": "markdown",
   "metadata": {},
   "source": [
    "And we fit the model."
   ]
  },
  {
   "cell_type": "code",
   "execution_count": null,
   "metadata": {},
   "outputs": [],
   "source": [
    "fit = Fit([IC_ds])\n",
    "result = fit.run()\n",
    "print(result)\n",
    "print(result.parameters.to_table())"
   ]
  },
  {
   "cell_type": "markdown",
   "metadata": {},
   "source": [
    "Make sure that the fit terminated successfully and make a plot of the result. **[3 marks]**"
   ]
  },
  {
   "cell_type": "code",
   "execution_count": null,
   "metadata": {},
   "outputs": [],
   "source": [
    "# your code here"
   ]
  },
  {
   "attachments": {
    "IC_fit.png": {
     "image/png": "[encoded data removed]"
    }
   },
   "cell_type": "markdown",
   "metadata": {},
   "source": [
    "Expected output:\n",
    "![IC_fit.png](attachment:IC_fit.png)"
   ]
  },
  {
   "cell_type": "markdown",
   "metadata": {},
   "source": [
    "We can find the total energy in electrons and the cut-off energy of the electron spectrum:"
   ]
  },
  {
   "cell_type": "code",
   "execution_count": null,
   "metadata": {},
   "outputs": [],
   "source": [
    "print('W_e = {}'.format(IC.We))\n",
    "print('Cut-off energy: E_cut = ({:3.3f} +/- {:2.3f}) {}'.format(\n",
    "                                                IC_model.parameters['e_cutoff'].value,\n",
    "                                                IC_model.parameters['e_cutoff'].error,\n",
    "                                                IC_model.parameters['e_cutoff'].unit))"
   ]
  },
  {
   "cell_type": "markdown",
   "metadata": {},
   "source": [
    "Note that both values are lower than the corresponding values of the proton spectrum. The total energy is lower because the mass of an electron is much smaller than the mass of a proton. The cut-off energy is lower because electrons loose their energy much quicker than protons, mainly due to synchrotron radiation."
   ]
  },
  {
   "cell_type": "markdown",
   "metadata": {},
   "source": [
    "If you want to use the likelihood of the fit, here it is:"
   ]
  },
  {
   "cell_type": "code",
   "execution_count": null,
   "metadata": {},
   "outputs": [],
   "source": [
    "L_IC = result.total_stat"
   ]
  },
  {
   "cell_type": "markdown",
   "metadata": {},
   "source": [
    "#### Comparing Hadronic and Leptonic Model\n",
    "\n",
    "Let's make a plot of the two models."
   ]
  },
  {
   "cell_type": "code",
   "execution_count": null,
   "metadata": {},
   "outputs": [],
   "source": [
    "gammapoints.plot(energy_power=2)\n",
    "\n",
    "IC_model.plot(energy_range=(1e-4*u.TeV, 100*u.TeV), energy_power=2, label = 'inverse Compton')\n",
    "hadronic_model.plot(energy_range=(1e-4*u.TeV, 100*u.TeV), energy_power=2, label = 'pion decay')\n",
    "\n",
    "plt.legend()"
   ]
  },
  {
   "cell_type": "markdown",
   "metadata": {},
   "source": [
    "Both models are independent and describe the data points well. Only one model can be correct. Can you make a claim if one model is significantly better? Explain your answer.\n",
    "\n",
    "If you apply Wilk's theorem, which one is your null hypothesis? In this case you need to show that the null hypothesis is a special case of the alternative model!\n",
    "\n",
    "**[2 marks]**"
   ]
  },
  {
   "cell_type": "markdown",
   "metadata": {},
   "source": [
    "**Answer:**\n",
    "\n",
    "This is a text cell. Put your answer here."
   ]
  },
  {
   "cell_type": "markdown",
   "metadata": {},
   "source": [
    "### Adding Synchtrotron Emission\n",
    "\n",
    "From the inverse Compton model above we have deduced an electron spectrum. In a magnetic field these electrons will also produce synchrotron radiation. Synchrotron radiation shows in radio up to X-ray energies. We have loaded the data points above.\n",
    "\n",
    "Let's take a look at the parameters of the inverse-Compton model:"
   ]
  },
  {
   "cell_type": "code",
   "execution_count": null,
   "metadata": {},
   "outputs": [],
   "source": [
    "IC_model.parameters.to_table()"
   ]
  },
  {
   "cell_type": "markdown",
   "metadata": {},
   "source": [
    "Let's build a model for synchrotron radiation from these electrons. We will start with a magnetic field of $B = 1 \\mu\\mathsf{G}$."
   ]
  },
  {
   "cell_type": "code",
   "execution_count": null,
   "metadata": {},
   "outputs": [],
   "source": [
    "B = 1*u.microGauss"
   ]
  },
  {
   "cell_type": "markdown",
   "metadata": {},
   "source": [
    "We use the synchrotron model from ```naima``` with a minimum energy corresponding to the rest energy of the electron. We build a NaimaSpectralModel with the correct distance."
   ]
  },
  {
   "cell_type": "code",
   "execution_count": null,
   "metadata": {},
   "outputs": [],
   "source": [
    "sync = naima.models.Synchrotron(electrons, B = B, Eemin = 511*u.keV)\n",
    "\n",
    "sync_model = NaimaSpectralModel(sync, distance=distance)"
   ]
  },
  {
   "cell_type": "markdown",
   "metadata": {},
   "source": [
    "The synchrotron radiation comes from the same electrons as the inverse Compton emission. So the parameters should be the same."
   ]
  },
  {
   "cell_type": "code",
   "execution_count": null,
   "metadata": {},
   "outputs": [],
   "source": [
    "sync_model.amplitude = IC_model.amplitude\n",
    "sync_model.e_0 = IC_model.e_0\n",
    "sync_model.e_cutoff = IC_model.e_cutoff\n",
    "sync_model.alpha = IC_model.alpha\n",
    "sync_model.beta = IC_model.beta"
   ]
  },
  {
   "cell_type": "code",
   "execution_count": null,
   "metadata": {},
   "outputs": [],
   "source": [
    "sync_model.parameters.to_table()"
   ]
  },
  {
   "cell_type": "markdown",
   "metadata": {},
   "source": [
    "We want to keep the electrons as we have found them from the fit to gamma-ray data. So we have to freeze all parameters except the magnetic field."
   ]
  },
  {
   "cell_type": "code",
   "execution_count": null,
   "metadata": {},
   "outputs": [],
   "source": [
    "for c in ['amplitude', 'e_0', 'alpha', 'e_cutoff', 'beta'] :\n",
    "    sync_model.parameters[c].frozen = True"
   ]
  },
  {
   "cell_type": "code",
   "execution_count": null,
   "metadata": {},
   "outputs": [],
   "source": [
    "sync_model.parameters.to_table()"
   ]
  },
  {
   "cell_type": "markdown",
   "metadata": {},
   "source": [
    "Now we can plot our models together with all data points."
   ]
  },
  {
   "cell_type": "code",
   "execution_count": null,
   "metadata": {},
   "outputs": [],
   "source": [
    "gammapoints.plot(energy_power=2)\n",
    "xraypoints.plot(energy_power=2)\n",
    "\n",
    "IC_model.plot(**plot_kwargs, label = 'IC')\n",
    "sync_model.plot(**plot_kwargs, label = 'synchrotron')\n",
    "\n",
    "plt.legend()\n",
    "plt.ylim(1e-13, 1e-9)"
   ]
  },
  {
   "cell_type": "markdown",
   "metadata": {},
   "source": [
    "The synchrotron model is well below the X-ray data points. We will need to increase the magnetic field. We just fit to the data points, the magnetic field is the only free parameter in the model.\n",
    "\n",
    "Let's create the FluxPointDataSet and do the fit."
   ]
  },
  {
   "cell_type": "code",
   "execution_count": null,
   "metadata": {},
   "outputs": [],
   "source": [
    "sync_ds = FluxPointsDataset(SkyModel(spectral_model=sync_model), xraypoints)"
   ]
  },
  {
   "cell_type": "code",
   "execution_count": null,
   "metadata": {
    "scrolled": true
   },
   "outputs": [],
   "source": [
    "fit = Fit([sync_ds])\n",
    "result = fit.run()\n",
    "print(result)\n",
    "print(result.parameters.to_table())"
   ]
  },
  {
   "cell_type": "markdown",
   "metadata": {},
   "source": [
    "Make sure that the fit terminated successfully and make a plot of the result. **[3 marks]**"
   ]
  },
  {
   "cell_type": "code",
   "execution_count": null,
   "metadata": {},
   "outputs": [],
   "source": [
    "#your code here"
   ]
  },
  {
   "attachments": {
    "sync_fit.png": {
     "image/png": "[encoded data removed]"
    }
   },
   "cell_type": "markdown",
   "metadata": {},
   "source": [
    "Expected output:\n",
    "![sync_fit.png](attachment:sync_fit.png)"
   ]
  },
  {
   "cell_type": "markdown",
   "metadata": {},
   "source": [
    "You see that the shape of the spectrum does not describe very well the data points. The reason is that we fixed the shape using gamma-ray data. Here we only adjusted the magnetic field such that the level of emission is right."
   ]
  },
  {
   "cell_type": "markdown",
   "metadata": {},
   "source": [
    "What is the magnetic field? Report your answer with error and unit. **[1 mark]**"
   ]
  },
  {
   "cell_type": "code",
   "execution_count": null,
   "metadata": {},
   "outputs": [],
   "source": [
    "# your answer here"
   ]
  },
  {
   "cell_type": "markdown",
   "metadata": {},
   "source": [
    "Let's plot all together."
   ]
  },
  {
   "cell_type": "code",
   "execution_count": null,
   "metadata": {},
   "outputs": [],
   "source": [
    "gammapoints.plot(energy_power=2)\n",
    "xraypoints.plot(energy_power=2)\n",
    "\n",
    "IC_model.plot(**plot_kwargs, label = 'IC')\n",
    "sync_model.plot(**plot_kwargs, label = 'synchrotron')\n",
    "\n",
    "plt.legend()\n",
    "plt.ylim(1e-13, 1e-9)"
   ]
  },
  {
   "cell_type": "markdown",
   "metadata": {},
   "source": [
    "### Further Ideas"
   ]
  },
  {
   "cell_type": "markdown",
   "metadata": {},
   "source": [
    "We can try to address the problem that our model does not describe well the shape of the X-ray spectrum. The X-ray spectrum is mainly in the cut-off range. We can free the parameters of the cut-off energy and ```beta```. The spectral index ```alpha``` is constraint by the gamma-ray emission, so we keep it fixed. We also keep the amplitude fixed, otherwise the model will be too far away from the gamma-ray points."
   ]
  },
  {
   "cell_type": "code",
   "execution_count": null,
   "metadata": {},
   "outputs": [],
   "source": [
    "sync_model.parameters['e_cutoff'].frozen = False\n",
    "sync_model.parameters['beta'].frozen = False"
   ]
  },
  {
   "cell_type": "code",
   "execution_count": null,
   "metadata": {},
   "outputs": [],
   "source": [
    "sync_model.parameters.to_table()"
   ]
  },
  {
   "cell_type": "code",
   "execution_count": null,
   "metadata": {},
   "outputs": [],
   "source": [
    "result = fit.run()\n",
    "print(result)\n",
    "print(result.parameters.to_table())"
   ]
  },
  {
   "cell_type": "code",
   "execution_count": null,
   "metadata": {},
   "outputs": [],
   "source": [
    "sync_ds.peek()"
   ]
  },
  {
   "cell_type": "markdown",
   "metadata": {},
   "source": [
    "This worked well. Let's have a look what this does to the inverse Compton emission."
   ]
  },
  {
   "cell_type": "code",
   "execution_count": null,
   "metadata": {},
   "outputs": [],
   "source": [
    "IC_ds.peek()"
   ]
  },
  {
   "cell_type": "markdown",
   "metadata": {},
   "source": [
    "Now our model overestimates the emission in the cut-off region."
   ]
  },
  {
   "cell_type": "markdown",
   "metadata": {},
   "source": [
    "The best thing to do would be to fit both models and all data points simultanously. The next cell would be the way to do it. Unfortunately, there is a bug in gammapy v. 0.17, so this does not work. It will work in v. 0.18, which should come out Oct 30th."
   ]
  },
  {
   "cell_type": "code",
   "execution_count": null,
   "metadata": {},
   "outputs": [],
   "source": [
    "#fit = Fit([sync_ds, IC_ds])\n",
    "#result = fit.run()\n",
    "#print(result)\n",
    "#print(result.parameters.to_table())"
   ]
  },
  {
   "attachments": {
    "CombinedFit_IC.png": {
     "image/png": "[encoded data removed]"
    },
    "CombinedFit_sync.png": {
     "image/png": "[encoded data removed]"
    }
   },
   "cell_type": "markdown",
   "metadata": {},
   "source": [
    "Here are two plots after the above simultanous fit, with beta as free parameter. The cut-off region of the gamma-ray emission is still slightly overestimated.\n",
    "![CombinedFit_sync.png](attachment:CombinedFit_sync.png)\n",
    "![CombinedFit_IC.png](attachment:CombinedFit_IC.png)"
   ]
  },
  {
   "cell_type": "markdown",
   "metadata": {},
   "source": [
    "## Sanity Check\n",
    "\n",
    "Before you submit your work you should make a few checks that everything works fine.\n",
    "\n",
    "1. ~~Save your notebook as a PDF (File->Download As->PDF). This document will help you debugging in the next step.~~\n",
    "1. PDF export does not work. You can do File->Print Preview and then print to a file.\n",
    "1. Restart the kernel and rerun the entire notebook (Kernel->Restart & Run All). This will delete all variables (but not your code) and rerun the notebook in one go. If this does not go through the end (i.e. you do not see the output of the next cell) then you have to fix it. You will see at which cell the run stopped. A common mistake is using a variable that is defined only at a later stage.\n",
    "1. You think you fixed everything? Redo step 2 (Kernel->Restart & Run All)"
   ]
  },
  {
   "cell_type": "code",
   "execution_count": null,
   "metadata": {},
   "outputs": [],
   "source": [
    "print('a\\bYa\\boa\\bua\\b a\\baa\\bra\\bea\\b a\\bra\\bea\\baa\\bda\\bya\\b a\\bta\\boa\\b a\\bsa\\bua\\bba\\bma\\bia\\bta\\b.a\\b')"
   ]
  },
  {
   "cell_type": "markdown",
   "metadata": {},
   "source": [
    "Do you see the output of the last cell without explicitly running it? Then the notebook goes through with one kernel restart. You can proceed to submission.\n",
    "You do not see the output? Go back to step 2 above.\n",
    "\n",
    "The jupyter notebook goes through all cells with one Kernel Restart & Run all.    **[1 mark]**\n",
    "\n",
    "## Submission\n",
    "\n",
    "You have to download and submit at least 3 files, the jupyter notebook and the two data files.\n",
    "- Jupyter notebook. File->Download As->Notebook (.ipynb). Save this file on your disk.\n",
    "- Spectral data points. Go to the Home Page of your jupyter notebooks. It is in a different tab or window of your browser. Find your two data files and save it to your disk. No need to download the X-ray file.\n",
    "- ~~You can also submit a PDF file. File->Download As->PDF. Save this file on your disk. If this does not work then leave it out.~~\n",
    "- PDF export does not work. You can do File->Print Preview and then print to a file.\n",
    "\n",
    "\n",
    "Please submit all files on Sakai.        **[1 mark]**\n",
    "\n",
    "Congratulations. You have succesfully completed your TeV Astronomy project."
   ]
  }
 ],
 "metadata": {
  "kernelspec": {
   "display_name": "Python 3",
   "language": "python",
   "name": "python3"
  },
  "language_info": {
   "codemirror_mode": {
    "name": "ipython",
    "version": 3
   },
   "file_extension": ".py",
   "mimetype": "text/x-python",
   "name": "python",
   "nbconvert_exporter": "python",
   "pygments_lexer": "ipython3",
   "version": "3.7.0"
  }
 },
 "nbformat": 4,
 "nbformat_minor": 4
}
